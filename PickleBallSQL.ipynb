{
 "cells": [
  {
   "cell_type": "markdown",
   "id": "8c669016",
   "metadata": {},
   "source": [
    "### Fake Pickleball Results for DTSC 2032"
   ]
  },
  {
   "cell_type": "code",
   "execution_count": 15,
   "id": "794aef29",
   "metadata": {},
   "outputs": [],
   "source": [
    "# Import the sqlite3 library\n",
    "import sqlite3 as db\n",
    "#import pandas as pd\n",
    "import csv"
   ]
  },
  {
   "cell_type": "code",
   "execution_count": 2,
   "id": "6827f28f",
   "metadata": {},
   "outputs": [],
   "source": [
    "# create a connection between the database and VSCode\n",
    "# If the database does not exist, SQLite will create it.\n",
    "conn = db.connect('pickleball.db')  # Create or connect to database\n",
    "# create a cursor object which will be the way through which we pass commands\n",
    "cursor = conn.cursor()"
   ]
  },
  {
   "cell_type": "code",
   "execution_count": 3,
   "id": "ca19478e",
   "metadata": {},
   "outputs": [
    {
     "data": {
      "text/plain": [
       "<sqlite3.Cursor at 0x243006770c0>"
      ]
     },
     "execution_count": 3,
     "metadata": {},
     "output_type": "execute_result"
    }
   ],
   "source": [
    "cursor.execute('''\n",
    "CREATE TABLE IF NOT EXISTS match (\n",
    "    matchid INTEGER PRIMARY KEY,\n",
    "    WinnerID INTEGER,\n",
    "    LoserID INTEGER)\n",
    "''')\n"
   ]
  },
  {
   "cell_type": "code",
   "execution_count": 4,
   "id": "9aeb1c35",
   "metadata": {},
   "outputs": [],
   "source": [
    "player_data = [\n",
    "    (378, 'Ilieva Ageenko', '35'),\n",
    "    (459, 'Michael Schuckers', '36'),\n",
    "    (608, 'Marco Scipioni', '33'),\n",
    "    (780,'Deanna Rella',29)\n",
    "]\n",
    "\n",
    "match_data = [(710,378,459),\n",
    "         (711,378,780),\n",
    "         (712,608,459),\n",
    "         (713,608,780),\n",
    "         (714,780,459), \n",
    "         (716,378,608),\n",
    "         (720,400,378)]\n"
   ]
  },
  {
   "cell_type": "code",
   "execution_count": 5,
   "id": "604cbfe0",
   "metadata": {},
   "outputs": [
    {
     "data": {
      "text/plain": [
       "<sqlite3.Cursor at 0x243006770c0>"
      ]
     },
     "execution_count": 5,
     "metadata": {},
     "output_type": "execute_result"
    }
   ],
   "source": [
    "cursor.execute('''\n",
    "CREATE TABLE IF NOT EXISTS player (\n",
    "    PlayerID INTEGER PRIMARY KEY,\n",
    "    Name TEXT,\n",
    "    Age INTEGER)\n",
    "''')\n"
   ]
  },
  {
   "cell_type": "code",
   "execution_count": 6,
   "id": "77228c66",
   "metadata": {},
   "outputs": [
    {
     "data": {
      "text/plain": [
       "<sqlite3.Cursor at 0x243006770c0>"
      ]
     },
     "execution_count": 6,
     "metadata": {},
     "output_type": "execute_result"
    }
   ],
   "source": [
    "cursor.executemany('''\n",
    "INSERT INTO player (PlayerID, Name, Age)\n",
    "VALUES (?, ?, ?)\n",
    "''', player_data)"
   ]
  },
  {
   "cell_type": "code",
   "execution_count": 7,
   "id": "ce808a3f",
   "metadata": {},
   "outputs": [
    {
     "data": {
      "text/plain": [
       "<sqlite3.Cursor at 0x243006770c0>"
      ]
     },
     "execution_count": 7,
     "metadata": {},
     "output_type": "execute_result"
    }
   ],
   "source": [
    "cursor.executemany('''\n",
    "INSERT INTO match (MatchID, WinnerID, LoserID)\n",
    "VALUES (?, ?, ?)\n",
    "''', match_data)"
   ]
  },
  {
   "cell_type": "markdown",
   "id": "7184ecea",
   "metadata": {},
   "source": [
    "### INNER JOIN"
   ]
  },
  {
   "cell_type": "code",
   "execution_count": null,
   "id": "fe2cbb48",
   "metadata": {},
   "outputs": [],
   "source": [
    "cursor.execute('''\n",
    "SELECT WinnerID, LoserID,Name  FROM match \n",
    "INNER JOIN player \n",
    "ON match.WinnerID = player.PlayerID;\n",
    "''')"
   ]
  },
  {
   "cell_type": "code",
   "execution_count": null,
   "id": "16f81195",
   "metadata": {},
   "outputs": [],
   "source": [
    "result = cursor.fetchall() \n",
    "for row in result: \n",
    "    print(row) "
   ]
  },
  {
   "cell_type": "markdown",
   "id": "39fc0576",
   "metadata": {},
   "source": [
    "### LEFT JOIN"
   ]
  },
  {
   "cell_type": "code",
   "execution_count": null,
   "id": "d1e0ee32",
   "metadata": {},
   "outputs": [],
   "source": [
    "cursor.execute('''\n",
    "SELECT WinnerID, LoserID,Name  FROM match \n",
    "LEFT JOIN player \n",
    "ON match.WinnerID = player.PlayerID;\n",
    "''')\n",
    "result = cursor.fetchall() \n",
    "for row in result: \n",
    "    print(row) "
   ]
  },
  {
   "cell_type": "markdown",
   "id": "206c955c",
   "metadata": {},
   "source": [
    "### RIGHT JOIN"
   ]
  },
  {
   "cell_type": "code",
   "execution_count": null,
   "id": "d8212b68",
   "metadata": {},
   "outputs": [],
   "source": [
    "cursor.execute('''\n",
    "SELECT WinnerID, LoserID,Name  FROM match \n",
    "RIGHT JOIN player \n",
    "ON match.WinnerID = player.PlayerID;\n",
    "''')\n",
    "result = cursor.fetchall() \n",
    "for row in result: \n",
    "    print(row) "
   ]
  },
  {
   "cell_type": "markdown",
   "id": "c8b20274",
   "metadata": {},
   "source": [
    "### FULL JOIN"
   ]
  },
  {
   "cell_type": "code",
   "execution_count": null,
   "id": "e6985247",
   "metadata": {},
   "outputs": [],
   "source": [
    "cursor.execute('''\n",
    "SELECT WinnerID, LoserID,Name  FROM match \n",
    "FULL JOIN player \n",
    "ON match.WinnerID = player.PlayerID;\n",
    "''')\n",
    "result = cursor.fetchall() \n",
    "for row in result: \n",
    "    print(row) "
   ]
  },
  {
   "cell_type": "markdown",
   "id": "f32e9af8",
   "metadata": {},
   "source": [
    "### More Examples"
   ]
  },
  {
   "cell_type": "code",
   "execution_count": 8,
   "id": "24f0b0a6",
   "metadata": {},
   "outputs": [
    {
     "name": "stdout",
     "output_type": "stream",
     "text": [
      "('Michael Schuckers', 36)\n",
      "('Deanna Rella', 29)\n",
      "('Michael Schuckers', 36)\n",
      "('Deanna Rella', 29)\n",
      "('Michael Schuckers', 36)\n",
      "('Marco Scipioni', 33)\n",
      "('Ilieva Ageenko', 35)\n"
     ]
    }
   ],
   "source": [
    "cursor.execute('''\n",
    "SELECT Name, Age  FROM match \n",
    "FULL JOIN player \n",
    "ON match.LoserID = player.PlayerID;\n",
    "''')\n",
    "result = cursor.fetchall() \n",
    "for row in result: \n",
    "    print(row) "
   ]
  },
  {
   "cell_type": "code",
   "execution_count": 9,
   "id": "6d389b59",
   "metadata": {},
   "outputs": [
    {
     "name": "stdout",
     "output_type": "stream",
     "text": [
      "(378, 'Ilieva Ageenko', 35)\n",
      "(378, 'Ilieva Ageenko', 35)\n",
      "(608, 'Marco Scipioni', 33)\n",
      "(608, 'Marco Scipioni', 33)\n",
      "(780, 'Deanna Rella', 29)\n",
      "(378, 'Ilieva Ageenko', 35)\n",
      "(None, 'Michael Schuckers', 36)\n"
     ]
    }
   ],
   "source": [
    "cursor.execute('''\n",
    "SELECT WinnerID, Name, Age from match\n",
    "  RIGHT JOIN player ON match.WinnerID=player.PlayerID\n",
    " ;\n",
    "''')\n",
    "result = cursor.fetchall() \n",
    "for row in result: \n",
    "    print(row) "
   ]
  },
  {
   "cell_type": "code",
   "execution_count": 10,
   "id": "0c639586",
   "metadata": {},
   "outputs": [
    {
     "name": "stdout",
     "output_type": "stream",
     "text": [
      "(710, 'Ilieva Ageenko')\n",
      "(711, 'Ilieva Ageenko')\n",
      "(712, 'Marco Scipioni')\n",
      "(713, 'Marco Scipioni')\n",
      "(714, 'Deanna Rella')\n",
      "(716, 'Ilieva Ageenko')\n"
     ]
    }
   ],
   "source": [
    "cursor.execute('''SELECT MatchID, Name from match\n",
    "JOIN player ON player.PlayerID = match.WinnerID\n",
    "\n",
    "               ''')\n",
    "result = cursor.fetchall() \n",
    "for row in result: \n",
    "    print(row) "
   ]
  },
  {
   "cell_type": "code",
   "execution_count": 11,
   "id": "dc18209b",
   "metadata": {},
   "outputs": [
    {
     "name": "stdout",
     "output_type": "stream",
     "text": [
      "(710, 'Ilieva Ageenko')\n",
      "(711, 'Ilieva Ageenko')\n",
      "(716, 'Ilieva Ageenko')\n"
     ]
    }
   ],
   "source": [
    "cursor.execute('''SELECT MatchID, Name from match\n",
    "JOIN player ON player.PlayerID = match.WinnerID\n",
    "WHERE WinnerID<500\n",
    "''')\n",
    "result = cursor.fetchall() \n",
    "for row in result: \n",
    "    print(row) "
   ]
  },
  {
   "cell_type": "code",
   "execution_count": null,
   "id": "2326e2ef",
   "metadata": {},
   "outputs": [],
   "source": [
    "sql_query = \"\"\"SELECT name FROM sqlite_master \n",
    "    WHERE type='table';\"\"\"\n",
    "\n",
    "cursor.execute(sql_query)\n",
    "print(\"List of tables\\n\")\n",
    "     \n",
    "# printing all tables list\n",
    "print(cursor.fetchall())"
   ]
  },
  {
   "cell_type": "code",
   "execution_count": null,
   "id": "b6a0c6f5",
   "metadata": {},
   "outputs": [],
   "source": [
    "cursor.execute('''\n",
    "SELECT * FROM player \n",
    "''')\n",
    "result = cursor.fetchall() \n",
    "for row in result: \n",
    "    print(row) "
   ]
  },
  {
   "cell_type": "code",
   "execution_count": null,
   "id": "85e240a9",
   "metadata": {},
   "outputs": [],
   "source": [
    "with open(\"result.csv\", \"w\", newline=\"\", encoding=\"utf-8\") as f:\n",
    "    writer = csv.writer(f)\n",
    "    writer.writerow([header[0] for header in cursor.description])\n",
    "    writer.writerows(result)"
   ]
  },
  {
   "cell_type": "code",
   "execution_count": 12,
   "id": "4053ea87",
   "metadata": {},
   "outputs": [],
   "source": [
    "conn.close()"
   ]
  }
 ],
 "metadata": {
  "kernelspec": {
   "display_name": "Python 3",
   "language": "python",
   "name": "python3"
  },
  "language_info": {
   "codemirror_mode": {
    "name": "ipython",
    "version": 3
   },
   "file_extension": ".py",
   "mimetype": "text/x-python",
   "name": "python",
   "nbconvert_exporter": "python",
   "pygments_lexer": "ipython3",
   "version": "3.13.3"
  }
 },
 "nbformat": 4,
 "nbformat_minor": 5
}
