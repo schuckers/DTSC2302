{
 "cells": [
  {
   "cell_type": "markdown",
   "metadata": {},
   "source": [
    "### SQL: Filters and Joins\n",
    "\n",
    "Structured Query Language or SQL is a very common tool for data science.  It is a way to access data from databases.  We use databases rather than spreadsheets or csv's since they\n",
    "tend to be more efficient uses of space.\n",
    "\n",
    "For DTSC 2302 we are going to use a simple version of SQL and of database structure.  Generally, a database would be stored on a server and communications would go through the server.  In this course, we are just going to use some simple databases that are stored locally using a python library called _sqlite3_.  You may have to _install_ this\n",
    "library but it now comes as part of my python downloads."
   ]
  },
  {
   "cell_type": "code",
   "execution_count": 1,
   "metadata": {},
   "outputs": [],
   "source": [
    "# Import the sqlite3 library\n",
    "import sqlite3 as db\n",
    "import pandas as pd\n",
    "import csv"
   ]
  },
  {
   "cell_type": "markdown",
   "metadata": {},
   "source": [
    "Download the file to a local directory \n",
    "https://webpages.charlotte.edu/mschuck1/classes/DTSC2301/Data/chinook.db"
   ]
  },
  {
   "cell_type": "code",
   "execution_count": 2,
   "metadata": {},
   "outputs": [],
   "source": [
    "# Create a statement like the one below but replace my path with the one that is appropriate for your machine\n",
    "#\n",
    "chinook='C:\\\\Users\\\\mschuck1\\\\OneDrive - University of North Carolina at Charlotte\\\\Teaching\\\\DTSC2301\\\\chinook.db'\n",
    "\n",
    "conn = db.connect(chinook)  # Create or connect to database\n",
    "# create a cursor object which will be the way through which we pass commands\n",
    "cursor = conn.cursor()"
   ]
  },
  {
   "cell_type": "markdown",
   "metadata": {},
   "source": [
    "Here is the schema for the *chinook* database\n",
    "\n",
    "![Chinook Schema](https://webpages.charlotte.edu/mschuck1/classes/DTSC2301/Data/sqlite-sample-database-color.jpg)"
   ]
  },
  {
   "cell_type": "markdown",
   "metadata": {},
   "source": [
    "Next we will print the names of the tables in the _chinook_ database."
   ]
  },
  {
   "cell_type": "code",
   "execution_count": 3,
   "metadata": {},
   "outputs": [
    {
     "name": "stdout",
     "output_type": "stream",
     "text": [
      "List of tables\n",
      "\n",
      "[('albums',), ('sqlite_sequence',), ('artists',), ('customers',), ('employees',), ('genres',), ('invoices',), ('invoice_items',), ('media_types',), ('playlists',), ('playlist_track',), ('tracks',), ('sqlite_stat1',)]\n"
     ]
    }
   ],
   "source": [
    "sql_query = \"\"\"SELECT name FROM sqlite_master \n",
    "    WHERE type='table';\"\"\"\n",
    "\n",
    "cursor.execute(sql_query)\n",
    "print(\"List of tables\\n\")\n",
    "     \n",
    "# printing all tables list\n",
    "print(cursor.fetchall())\n",
    "\n"
   ]
  },
  {
   "cell_type": "markdown",
   "metadata": {},
   "source": [
    "### Filtering"
   ]
  },
  {
   "cell_type": "markdown",
   "metadata": {},
   "source": [
    "Next we will practice filtering.  Filtering is the act of subsetting the rows/examples/instances of a dataset."
   ]
  },
  {
   "cell_type": "code",
   "execution_count": 4,
   "metadata": {},
   "outputs": [
    {
     "name": "stdout",
     "output_type": "stream",
     "text": [
      "(1, 'Rock')\n",
      "(2, 'Jazz')\n",
      "(3, 'Metal')\n",
      "(4, 'Alternative & Punk')\n",
      "(5, 'Rock And Roll')\n",
      "(6, 'Blues')\n",
      "(7, 'Latin')\n",
      "(8, 'Reggae')\n",
      "(9, 'Pop')\n",
      "(10, 'Soundtrack')\n",
      "(11, 'Bossa Nova')\n",
      "(12, 'Easy Listening')\n",
      "(13, 'Heavy Metal')\n",
      "(14, 'R&B/Soul')\n",
      "(15, 'Electronica/Dance')\n",
      "(16, 'World')\n",
      "(17, 'Hip Hop/Rap')\n",
      "(18, 'Science Fiction')\n",
      "(19, 'TV Shows')\n",
      "(20, 'Sci Fi & Fantasy')\n",
      "(21, 'Drama')\n",
      "(22, 'Comedy')\n",
      "(23, 'Alternative')\n",
      "(24, 'Classical')\n",
      "(25, 'Opera')\n"
     ]
    }
   ],
   "source": [
    "cursor.execute('SELECT * FROM genres')\n",
    "rows=cursor.fetchall()\n",
    "for row in rows:\n",
    "    print(row)"
   ]
  },
  {
   "cell_type": "markdown",
   "metadata": {},
   "source": [
    "So we'll start with some simple filters from this database.\n",
    "\n",
    "So we'll look at the genres and get those with id's less than 10.  A pretty simple filter\n",
    "that is based upon a numeric statement."
   ]
  },
  {
   "cell_type": "code",
   "execution_count": 5,
   "metadata": {},
   "outputs": [
    {
     "name": "stdout",
     "output_type": "stream",
     "text": [
      "(1, 'Rock')\n",
      "(2, 'Jazz')\n",
      "(3, 'Metal')\n",
      "(4, 'Alternative & Punk')\n",
      "(5, 'Rock And Roll')\n",
      "(6, 'Blues')\n",
      "(7, 'Latin')\n",
      "(8, 'Reggae')\n",
      "(9, 'Pop')\n"
     ]
    }
   ],
   "source": [
    "cursor.execute('''SELECT * FROM genres \n",
    "               WHERE genreID <10\n",
    "''')\n",
    "rows=cursor.fetchall()\n",
    "for row in rows:\n",
    "    print(row)"
   ]
  },
  {
   "cell_type": "markdown",
   "metadata": {},
   "source": [
    "We can filter text by similar comparisons."
   ]
  },
  {
   "cell_type": "code",
   "execution_count": 6,
   "metadata": {},
   "outputs": [
    {
     "name": "stdout",
     "output_type": "stream",
     "text": [
      "('Killing Floor', 19, 'Adrian Smith')\n",
      "('Machine Men', 19, 'Adrian Smith')\n",
      "('Wasted Years', 111, 'Adrian Smith')\n",
      "('Sea of Madness', 111, 'Adrian Smith')\n",
      "('Stranger in a Strange Land', 111, 'Adrian Smith')\n"
     ]
    }
   ],
   "source": [
    "cursor.execute('''SELECT   name,   albumid,   composer\n",
    "FROM\n",
    "  tracks\n",
    "WHERE\n",
    "  composer = 'Adrian Smith'\n",
    "''')\n",
    "rows=cursor.fetchall()\n",
    "for row in rows:\n",
    "    print(row)"
   ]
  },
  {
   "cell_type": "markdown",
   "metadata": {},
   "source": [
    "Yeah but say we want to get all the composers with 'Smith' as a last name.  I'm also going to add \n",
    "an 'AND' to our WHERE clause below to make it easier to see the differences in our output."
   ]
  },
  {
   "cell_type": "code",
   "execution_count": 7,
   "metadata": {},
   "outputs": [
    {
     "name": "stdout",
     "output_type": "stream",
     "text": [
      "('Killing Floor', 19, 'Adrian Smith')\n",
      "('Machine Men', 19, 'Adrian Smith')\n",
      "('Back in the Village', 107, 'Dickinson/Smith')\n",
      "('Wasted Years', 111, 'Adrian Smith')\n",
      "('Sea of Madness', 111, 'Adrian Smith')\n",
      "('Stranger in a Strange Land', 111, 'Adrian Smith')\n",
      "('Planet Home', 117, 'Jay Kay/Toby Smith')\n",
      "('Soul Education', 117, 'Jay Kay/Toby Smith')\n",
      "('Failling', 117, 'Jay Kay/Toby Smith')\n",
      "('Destitute Illusions', 117, 'Derrick McKenzie/Jay Kay/Toby Smith')\n",
      "('Butterfly', 117, 'Jay Kay/Toby Smith')\n",
      "('King For A Day', 117, 'Jay Kay/Toby Smith')\n",
      "('Deeper Underground', 117, 'Toby Smith')\n",
      "('Just Another Story', 118, 'Toby Smith')\n",
      "('Stillness In Time', 118, 'Toby Smith')\n",
      "('Half The Man', 118, 'Toby Smith')\n",
      "('Light Years', 118, 'Toby Smith')\n",
      "('Manifest Destiny', 118, 'Toby Smith')\n",
      "('The Kids', 118, 'Toby Smith')\n",
      "('Mr. Moon', 118, 'Stuard Zender/Toby Smith')\n"
     ]
    }
   ],
   "source": [
    "cursor.execute('''SELECT   name,   albumid,   composer\n",
    "FROM\n",
    "  tracks\n",
    "WHERE\n",
    "  composer LIKE '%Smith' AND albumid<120\n",
    "''')\n",
    "rows=cursor.fetchall()\n",
    "for row in rows:\n",
    "    print(row)"
   ]
  },
  {
   "cell_type": "markdown",
   "metadata": {},
   "source": [
    "So we didn't actually get those with just 'Smith' as a last name what we got was any string with 'Smith' at the end.  The LIKE '%Smith' translates to find anything that ends in 'Smith'.  We \n",
    "can do the same with anything that has 'Smith' somewhere in the _composer_ field by putting the '%' before and after 'Smith' as below."
   ]
  },
  {
   "cell_type": "code",
   "execution_count": 8,
   "metadata": {},
   "outputs": [
    {
     "name": "stdout",
     "output_type": "stream",
     "text": [
      "('Restless and Wild', 3, 'F. Baltes, R.A. Smith-Diesel, S. Kaufman, U. Dirkscneider & W. Hoffman')\n",
      "('Princess of the Dawn', 3, 'Deaffy & R.A. Smith-Diesel')\n",
      "('Killing Floor', 19, 'Adrian Smith')\n",
      "('Machine Men', 19, 'Adrian Smith')\n",
      "('2 Minutes To Midnight', 95, 'Adrian Smith/Bruce Dickinson')\n",
      "('Can I Play With Madness', 96, 'Adrian Smith/Bruce Dickinson/Steve Harris')\n",
      "('The Evil That Men Do', 96, 'Adrian Smith/Bruce Dickinson/Steve Harris')\n",
      "('The Wicker Man', 97, 'Adrian Smith/Bruce Dickinson/Steve Harris')\n",
      "('The Fallen Angel', 97, 'Adrian Smith/Steve Harris')\n",
      "('Wildest Dreams', 98, 'Adrian Smith/Steve Harris')\n",
      "('New Frontier', 98, 'Adrian Smith/Bruce Dickinson/Nicko McBrain')\n",
      "('Paschendale', 98, 'Adrian Smith/Steve Harris')\n",
      "('Face In The Sand', 98, 'Adrian Smith/Bruce Dickinson/Steve Harris')\n",
      "('2 Minutes To Midnight', 102, 'Smith/Dickinson')\n",
      "('Flight Of Icarus', 102, 'Smith/Dickinson')\n",
      "('Die With Your Boots On', 102, 'Adrian Smith/Bruce Dickinson/Steve Harris')\n",
      "('2 Minutes To Midnight', 104, 'Adrian Smith/Bruce Dickinson')\n",
      "('Hooks In You', 105, 'Adrian Smith/Bruce Dickinson')\n",
      "('Flight Of The Icarus', 106, 'Adrian Smith/Bruce Dickinson')\n",
      "('Die With Your Boots On', 106, 'Adrian Smith/Bruce Dickinson/Steve Harris')\n",
      "('Sun And Steel', 106, 'Adrian Smith/Bruce Dickinson')\n",
      "('2 Minutes To Midnight', 107, 'Smith/Dickinson')\n",
      "('Back in the Village', 107, 'Dickinson/Smith')\n",
      "('The Wicker Man', 108, 'Adrian Smith/Bruce Dickinson/Steve Harris')\n",
      "('2 Minutes To Midnight', 108, 'Adrian Smith/Bruce Dickinson')\n",
      "('The Evil That Men Do', 109, 'Adrian Smith/Bruce Dickinson/Steve Harris')\n",
      "('Moonchild', 110, 'Adrian Smith; Bruce Dickinson')\n",
      "('Can I Play With Madness', 110, 'Adrian Smith; Bruce Dickinson; Steve Harris')\n",
      "('The Evil That Men Do', 110, 'Adrian Smith; Bruce Dickinson; Steve Harris')\n",
      "('The Clairvoyant', 110, 'Adrian Smith; Bruce Dickinson; Steve Harris')\n",
      "('Wasted Years', 111, 'Adrian Smith')\n",
      "('Sea of Madness', 111, 'Adrian Smith')\n",
      "('Stranger in a Strange Land', 111, 'Adrian Smith')\n",
      "('22 Acacia Avenue', 112, 'Adrian Smith/Steve Harris')\n",
      "('Gangland', 112, 'Adrian Smith/Clive Burr/Steve Harris')\n",
      "('The Prisoner', 112, 'Adrian Smith/Steve Harris')\n",
      "('Too Young To Die', 116, 'Smith, Toby')\n",
      "('Hooked Up', 116, 'Smith, Toby')\n",
      "('Music Of The Wind', 116, 'Smith, Toby')\n",
      "('Emergency On Planet Earth', 116, 'Smith, Toby')\n",
      "('Blow Your Mind', 116, 'Smith, Toby')\n",
      "('Revolution 1993', 116, 'Smith, Toby')\n",
      "('Planet Home', 117, 'Jay Kay/Toby Smith')\n",
      "('Soul Education', 117, 'Jay Kay/Toby Smith')\n",
      "('Failling', 117, 'Jay Kay/Toby Smith')\n",
      "('Destitute Illusions', 117, 'Derrick McKenzie/Jay Kay/Toby Smith')\n",
      "('Butterfly', 117, 'Jay Kay/Toby Smith')\n",
      "('King For A Day', 117, 'Jay Kay/Toby Smith')\n",
      "('Deeper Underground', 117, 'Toby Smith')\n",
      "('Just Another Story', 118, 'Toby Smith')\n",
      "('Stillness In Time', 118, 'Toby Smith')\n",
      "('Half The Man', 118, 'Toby Smith')\n",
      "('Light Years', 118, 'Toby Smith')\n",
      "('Manifest Destiny', 118, 'Toby Smith')\n",
      "('The Kids', 118, 'Toby Smith')\n",
      "('Mr. Moon', 118, 'Stuard Zender/Toby Smith')\n",
      "('Journey To Arnhemland', 118, 'Toby Smith/Wallis Buchanan')\n"
     ]
    }
   ],
   "source": [
    "cursor.execute('''SELECT   name,   albumid,   composer\n",
    "FROM\n",
    "  tracks\n",
    "WHERE\n",
    "  composer LIKE '%Smith%' AND albumid<120\n",
    "''')\n",
    "rows=cursor.fetchall()\n",
    "for row in rows:\n",
    "    print(row)"
   ]
  },
  {
   "cell_type": "markdown",
   "metadata": {},
   "source": [
    "We got a longer list above because '%Smith%' is more flexible than '%Smith' (or 'Smith%' for that \n",
    "matter).  There are more options for matching text but we aren't going to spend to much time on them.  Those options fall under the heading of 'regular expressions' and they are a world unto themselves."
   ]
  },
  {
   "cell_type": "markdown",
   "metadata": {},
   "source": [
    "### JOINing\n",
    "\n",
    "Next we will move to *joining* of data from multiple tables.  Joining is the action of taking\n",
    "information from one table and combining with information from another."
   ]
  },
  {
   "cell_type": "markdown",
   "metadata": {},
   "source": [
    "So the next set of code does not run.  See if you can identify why that is before moving on."
   ]
  },
  {
   "cell_type": "markdown",
   "metadata": {},
   "source": [
    "cursor.execute('''SELECT ArtistId,Name,Title composer FROM albums\n",
    "\n",
    "JOIN artists ON albums.ArtistId=artists.Artistid\n",
    "\n",
    "WHERE albums.ArtistId <20\n",
    "\n",
    "''')\n",
    "\n",
    "\n",
    "rows=cursor.fetchall()\n",
    "\n",
    "for row in rows:\n",
    "\n",
    "    print(row)"
   ]
  },
  {
   "cell_type": "markdown",
   "metadata": {},
   "source": [
    "\n",
    "\n",
    "\n",
    "\n",
    ".\n",
    "\n",
    "\n",
    "\n",
    ".\n",
    "\n",
    "\n",
    "\n",
    ".\n",
    "\n",
    "\n",
    "\n",
    ". "
   ]
  },
  {
   "cell_type": "code",
   "execution_count": 9,
   "metadata": {},
   "outputs": [
    {
     "name": "stdout",
     "output_type": "stream",
     "text": [
      "(1, 'AC/DC', 'For Those About To Rock We Salute You')\n",
      "(1, 'AC/DC', 'Let There Be Rock')\n",
      "(2, 'Accept', 'Balls to the Wall')\n",
      "(2, 'Accept', 'Restless and Wild')\n",
      "(3, 'Aerosmith', 'Big Ones')\n",
      "(4, 'Alanis Morissette', 'Jagged Little Pill')\n",
      "(5, 'Alice In Chains', 'Facelift')\n",
      "(6, 'Antônio Carlos Jobim', 'Warner 25 Anos')\n",
      "(6, 'Antônio Carlos Jobim', 'Chill: Brazil (Disc 2)')\n",
      "(7, 'Apocalyptica', 'Plays Metallica By Four Cellos')\n",
      "(8, 'Audioslave', 'Audioslave')\n",
      "(8, 'Audioslave', 'Out Of Exile')\n",
      "(8, 'Audioslave', 'Revelations')\n",
      "(9, 'BackBeat', 'BackBeat Soundtrack')\n",
      "(10, 'Billy Cobham', 'The Best Of Billy Cobham')\n",
      "(11, 'Black Label Society', 'Alcohol Fueled Brewtality Live! [Disc 1]')\n",
      "(11, 'Black Label Society', 'Alcohol Fueled Brewtality Live! [Disc 2]')\n",
      "(12, 'Black Sabbath', 'Black Sabbath')\n",
      "(12, 'Black Sabbath', 'Black Sabbath Vol. 4 (Remaster)')\n",
      "(13, 'Body Count', 'Body Count')\n",
      "(14, 'Bruce Dickinson', 'Chemical Wedding')\n",
      "(15, 'Buddy Guy', 'The Best Of Buddy Guy - The Millenium Collection')\n",
      "(16, 'Caetano Veloso', 'Prenda Minha')\n",
      "(16, 'Caetano Veloso', 'Sozinho Remix Ao Vivo')\n",
      "(17, 'Chico Buarque', 'Minha Historia')\n",
      "(18, 'Chico Science & Nação Zumbi', 'Afrociberdelia')\n",
      "(18, 'Chico Science & Nação Zumbi', 'Da Lama Ao Caos')\n",
      "(19, 'Cidade Negra', 'Acústico MTV [Live]')\n",
      "(19, 'Cidade Negra', 'Cidade Negra - Hits')\n"
     ]
    }
   ],
   "source": [
    "cursor.execute('''SELECT albums.ArtistId,Name,Title composer FROM albums\n",
    "JOIN artists ON albums.ArtistId=artists.Artistid\n",
    "WHERE albums.ArtistId <20\n",
    "''')\n",
    "\n",
    "rows=cursor.fetchall()\n",
    "for row in rows:\n",
    "    print(row)"
   ]
  },
  {
   "cell_type": "markdown",
   "metadata": {},
   "source": [
    "Each track has its own genre but if we want to include that genre in our output \n",
    "we need to join the genre to the tracks."
   ]
  },
  {
   "cell_type": "code",
   "execution_count": 10,
   "metadata": {},
   "outputs": [
    {
     "name": "stdout",
     "output_type": "stream",
     "text": [
      "('Rock', 'For Those About To Rock (We Salute You)')\n",
      "('Rock', 'Balls to the Wall')\n",
      "('Rock', 'Fast As a Shark')\n",
      "('Rock', 'Restless and Wild')\n",
      "('Rock', 'Princess of the Dawn')\n",
      "('Rock', 'Put The Finger On You')\n",
      "('Rock', \"Let's Get It Up\")\n",
      "('Rock', 'Inject The Venom')\n",
      "('Rock', 'Snowballed')\n",
      "('Rock', 'Evil Walks')\n",
      "('Rock', 'C.O.D.')\n",
      "('Rock', 'Breaking The Rules')\n",
      "('Rock', 'Night Of The Long Knives')\n",
      "('Rock', 'Spellbound')\n",
      "('Rock', 'Go Down')\n",
      "('Rock', 'Dog Eat Dog')\n",
      "('Rock', 'Let There Be Rock')\n",
      "('Rock', 'Bad Boy Boogie')\n",
      "('Rock', 'Problem Child')\n",
      "('Rock', 'Overdose')\n",
      "('Rock', \"Hell Ain't A Bad Place To Be\")\n",
      "('Rock', 'Whole Lotta Rosie')\n",
      "('Rock', 'Walk On Water')\n",
      "('Rock', 'Love In An Elevator')\n",
      "('Rock', 'Rag Doll')\n",
      "('Rock', 'What It Takes')\n",
      "('Rock', 'Dude (Looks Like A Lady)')\n",
      "('Rock', \"Janie's Got A Gun\")\n",
      "('Rock', \"Cryin'\")\n",
      "('Rock', 'Amazing')\n",
      "('Rock', 'Blind Man')\n",
      "('Rock', 'Deuces Are Wild')\n",
      "('Rock', 'The Other Side')\n",
      "('Rock', 'Crazy')\n",
      "('Rock', 'Eat The Rich')\n",
      "('Rock', 'Angel')\n",
      "('Rock', \"Livin' On The Edge\")\n",
      "('Rock', 'All I Really Want')\n",
      "('Rock', 'You Oughta Know')\n",
      "('Rock', 'Perfect')\n",
      "('Rock', 'Hand In My Pocket')\n",
      "('Rock', 'Right Through You')\n",
      "('Rock', 'Forgiven')\n",
      "('Rock', 'You Learn')\n",
      "('Rock', 'Head Over Feet')\n",
      "('Rock', 'Mary Jane')\n",
      "('Rock', 'Ironic')\n",
      "('Rock', 'Not The Doctor')\n",
      "('Rock', 'Wake Up')\n",
      "('Rock', 'You Oughta Know (Alternate)')\n",
      "('Rock', 'We Die Young')\n",
      "('Rock', 'Man In The Box')\n",
      "('Rock', 'Sea Of Sorrow')\n",
      "('Rock', 'Bleed The Freak')\n",
      "('Rock', \"I Can't Remember\")\n",
      "('Rock', 'Love, Hate, Love')\n",
      "('Rock', \"It Ain't Like That\")\n",
      "('Rock', 'Sunshine')\n",
      "('Rock', 'Put You Down')\n",
      "('Rock', 'Confusion')\n",
      "('Rock', 'I Know Somethin (Bout You)')\n",
      "('Rock', 'Real Thing')\n",
      "('Rock', 'Cochise')\n",
      "('Rock', 'Show Me How to Live')\n",
      "('Rock', 'Gasoline')\n",
      "('Rock', 'What You Are')\n",
      "('Rock', 'Like a Stone')\n",
      "('Rock', 'Set It Off')\n",
      "('Rock', 'Shadow on the Sun')\n",
      "('Rock', 'I am the Highway')\n",
      "('Rock', 'Exploder')\n",
      "('Rock', 'Hypnotize')\n",
      "('Rock', \"Bring'em Back Alive\")\n",
      "('Rock', 'Light My Way')\n",
      "('Rock', 'Getaway Car')\n",
      "('Rock', 'The Last Remaining Light')\n",
      "('Jazz', 'Desafinado')\n",
      "('Jazz', 'Garota De Ipanema')\n",
      "('Jazz', 'Samba De Uma Nota Só (One Note Samba)')\n",
      "('Jazz', 'Por Causa De Você')\n",
      "('Jazz', 'Ligia')\n",
      "('Jazz', 'Fotografia')\n",
      "('Jazz', 'Dindi (Dindi)')\n",
      "('Jazz', 'Se Todos Fossem Iguais A Você (Instrumental)')\n",
      "('Jazz', 'Falando De Amor')\n",
      "('Jazz', 'Angela')\n",
      "('Jazz', 'Corcovado (Quiet Nights Of Quiet Stars)')\n",
      "('Jazz', 'Outra Vez')\n",
      "('Jazz', 'O Boto (Bôto)')\n",
      "('Jazz', 'Canta, Canta Mais')\n",
      "('Metal', 'Enter Sandman')\n",
      "('Metal', 'Master Of Puppets')\n",
      "('Metal', 'Harvester Of Sorrow')\n",
      "('Metal', 'The Unforgiven')\n",
      "('Metal', 'Sad But True')\n",
      "('Metal', 'Creeping Death')\n",
      "('Metal', 'Wherever I May Roam')\n",
      "('Metal', 'Welcome Home (Sanitarium)')\n",
      "('Alternative & Punk', 'Your Time Has Come')\n"
     ]
    }
   ],
   "source": [
    "cursor.execute('''SELECT genres.Name,tracks.Name \n",
    "               FROM genres\n",
    "JOIN tracks ON genres.GenreID=tracks.GenreID\n",
    "WHERE TrackID <100\n",
    "''')\n",
    "\n",
    "rows=cursor.fetchall()\n",
    "for row in rows:\n",
    "    print(row)"
   ]
  },
  {
   "cell_type": "markdown",
   "metadata": {},
   "source": [
    "Above we have been limiting the output since we don't want to take up too much screen space.  Here we are going to remove \n",
    "the filter (WHERE TrackID <100) and print the output to a csv file."
   ]
  },
  {
   "cell_type": "code",
   "execution_count": 11,
   "metadata": {},
   "outputs": [
    {
     "data": {
      "text/plain": [
       "<sqlite3.Cursor at 0x1af21260f40>"
      ]
     },
     "execution_count": 11,
     "metadata": {},
     "output_type": "execute_result"
    }
   ],
   "source": [
    "cursor.execute('''SELECT genres.Name,tracks.Name \n",
    "               FROM genres\n",
    "JOIN tracks ON genres.GenreID=tracks.GenreID\n",
    "''')"
   ]
  },
  {
   "cell_type": "code",
   "execution_count": 12,
   "metadata": {},
   "outputs": [],
   "source": [
    "# make the output from the previous cursor run an object called rows\n",
    "rows = cursor.fetchall()\n",
    "# open the csv file called 'results'  and do that in write or 'w' mode\n",
    "fp = open('results.csv','w')\n",
    "# create an csv.write object associated with the file fp\n",
    "myFile = csv.writer(fp)\n",
    "# right the output from our query into myFile\n",
    "myFile.writerows(rows)\n",
    "# close the connection with the file fp.\n",
    "fp.close()"
   ]
  },
  {
   "cell_type": "code",
   "execution_count": 13,
   "metadata": {},
   "outputs": [
    {
     "name": "stdout",
     "output_type": "stream",
     "text": [
      "(0, 'GenreId', 'INTEGER', 1, None, 1)\n",
      "(1, 'Name', 'NVARCHAR(120)', 0, None, 0)\n"
     ]
    }
   ],
   "source": [
    "cursor.execute('''PRAGMA table_info(genres)''')\n",
    "\n",
    "rows=cursor.fetchall()\n",
    "for row in rows:\n",
    "    print(row)"
   ]
  },
  {
   "cell_type": "markdown",
   "metadata": {},
   "source": [
    "For what we are doing here JOIN is sufficient, though we might want to use other types of JOIN.  "
   ]
  },
  {
   "cell_type": "code",
   "execution_count": 14,
   "metadata": {},
   "outputs": [],
   "source": [
    "#conn.close()"
   ]
  },
  {
   "cell_type": "markdown",
   "metadata": {},
   "source": [
    "Tasks below are drawn and modified from the following site:\n",
    "![SCORE Softball](https://iramler.github.io/slu_score_preprints/softball/softball_div1/)"
   ]
  },
  {
   "cell_type": "markdown",
   "metadata": {},
   "source": [
    "### Tasks\n",
    "0. For the tasks below you are going to use the database from the following link: https://webpages.charlotte.edu/mschuck1/classes/DTSC2301/Data/softball_batting.sqlite.  Connect to the database and print the names of the tables in that database.\n",
    "\n",
    "![Softball Database](https://webpages.charlotte.edu/mschuck1/classes/DTSC2301/Data/softball_db.png)\n",
    "\n",
    "1. When using a join function on the tables in the above picture, which variable would you want to use as your key and why?\n",
    "\n",
    "2.\tSuppose we LEFT JOIN batting2022_subset to batting2021_subset.  Are you keeping the player names from batting2022_subset or batting2021_subset?  Conduct the LEFT JOIN and check the output with your sketch.\n",
    "\n",
    "3.\tWould the dataset created by a RIGHT JOIN of batting2022_subset to batting2021_subset be identical to the dataset created in question 2? Why or why not?\n",
    "\n",
    "4.\tIf we wanted to see if players' performances improved or not from the 2021 season to the 2022 season, which of the join functions would be the most practical? Explain.\n",
    "\n",
    "5. Looking at the new table below, provide the command that would produce the result in this table.\n",
    "\n",
    "| Player    | Team |  R.x | H.x | R.y | H.y| \n",
    "| -------- | ------- | --- | --- | ---| ---|\n",
    "| Aaliyah Swan | Cal State Northridge | 8 | 20 | 16 | 23|\n",
    "| Abbey Latham | Ole Miss | 25 | 53 | 36 | 45|\n",
    "| Bella Rocco | Boise State | 16 | 42 | 10 | 29|\n",
    "| Emily Gant | Boston University | 31 | 36 | 40 | 55| \n",
    "\n",
    "*For the tasks below use the full tables , batting2021 and batting2022.*\n",
    "\n",
    "6. For each table, print the attributes from each table.\n",
    "\n",
    "7.\tAlthough not seen in the subset of data we used in the first five exercises, when considering multiple seasons of data for all NCAA Division 1 softball players, there is a reasonable chance that two players from different teams will have the same name. When using a join function, what would you want to use as your key? For now, let’s assume that players from the same team won’t have the same name.\n",
    "\n",
    "8.\tSuppose you only used the player’s name as the key, explain what would happen to your dataset if you did a full join?\n",
    "\n",
    "9.\tWhat is the difference between a full join and inner join? Answer based on what type of players would be included in each dataset.\n",
    "\n",
    "10.\tSuppose you want to analyze trends batting averages across 10 seasons of data. You should assume that all 10 seasons have the same column names.  Briefly explain why repeatedly using an inner join to merge all 10 seasons would not be a good approach. \n",
    "\n",
    "11. Briefly explain why repeatedly using use a full join to merge all 10 seasons would not be an ideal approach. What would be a better solution?\n",
    "\n",
    "\n",
    "\n",
    "\n",
    "\n",
    "\n"
   ]
  },
  {
   "cell_type": "code",
   "execution_count": null,
   "metadata": {},
   "outputs": [],
   "source": []
  }
 ],
 "metadata": {
  "kernelspec": {
   "display_name": "Python 3",
   "language": "python",
   "name": "python3"
  },
  "language_info": {
   "codemirror_mode": {
    "name": "ipython",
    "version": 3
   },
   "file_extension": ".py",
   "mimetype": "text/x-python",
   "name": "python",
   "nbconvert_exporter": "python",
   "pygments_lexer": "ipython3",
   "version": "3.13.1"
  }
 },
 "nbformat": 4,
 "nbformat_minor": 2
}
