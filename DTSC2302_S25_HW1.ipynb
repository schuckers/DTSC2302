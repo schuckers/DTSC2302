{
  "cells": [
    {
      "cell_type": "markdown",
      "metadata": {
        "id": "izKqG6OvCt21"
      },
      "source": [
        "## DTSC 2302 Spring 2025 Homework #1\n",
        "\n",
        "Turn in your assignment via Gradescope\n",
        "\n",
        "Due 3/21/25, 11: 59pm\n",
        "\n",
        "For Part A, you *not* use generative AI and you may only use python commands and code we used in class. \n",
        "\n",
        "For this assignment you *may* use any generative AI for Part #B and you may only use python commands and code we used in class. \n",
        "\n",
        "You will turn in two different files, one for Part A, and another for Part B.  Gradescope will have these as two different assignments."
      ]
    },
    {
      "cell_type": "markdown",
      "metadata": {
        "id": "_-BP6mfTCt23"
      },
      "source": [
        "### Part A\n",
        "#### Question 1\n",
        "Read in the Penguins dataset (https://webpages.charlotte.edu/mschuck1/classes/DTSC2301/Data/BlueJays.csv).  Fit a logistic regression model to predict Sex of the blue jay using _BillDepth_, _Skull_ and _Head_.  Interpret the coefficients from fitting the model."
      ]
    },
    {
      "cell_type": "markdown",
      "metadata": {},
      "source": [
        "#### Question 2\n",
        "For this question, you will use a new dataset (https://webpages.charlotte.edu/mschuck1/classes/DTSC2301/Data/credit_card_defaults.csv).  Fit a logistic regression with the target variable 'default payment next month' with  *LIMIT_BAL*, *SEX*, and *AGE* as predictors.  Center the *AGE* variable and the *LIMIT_BAL* variable.  Get the confusion matrix for this model. \n",
        "Calculate the accuracy of the model, the precision of the model and the recall of the model and explain in words what each of those quantities represents in words.\n",
        "\n",
        "Be sure to understand your variables before you use them.  \n",
        "\n",
        "Some additional details on this dataset can be found at [<https://archive.ics.uci.edu/dataset/350/default+of+credit+card+clients>]."
      ]
    },
    {
      "cell_type": "markdown",
      "metadata": {},
      "source": [
        "### Part B\n",
        "#### Question 3\n",
        "\n",
        "For this question, you will prompt a generative AI (genAI) program such as ChatGPT or Gemini to \n",
        "create a Jupyter Notebook that evaluates a logistic regression via cross validation for a dataset called _BreastCancer.csv_ with called _Radius_, _Texture_, _Perimeter_ , _Area_, and _Smoothness_\n",
        "\n",
        "Download the resulting Jupyter Notebook.  At the top of the file in Text/Markdown, put your name, the genAI program that you used including a link to the website, and the exact prompt that you gave the genAI. \n",
        "\n",
        "Turn in this notebook to Gradescope.  "
      ]
    }
  ],
  "metadata": {
    "colab": {
      "provenance": []
    },
    "kernelspec": {
      "display_name": "Python 3",
      "language": "python",
      "name": "python3"
    },
    "language_info": {
      "codemirror_mode": {
        "name": "ipython",
        "version": 3
      },
      "file_extension": ".py",
      "mimetype": "text/x-python",
      "name": "python",
      "nbconvert_exporter": "python",
      "pygments_lexer": "ipython3",
      "version": "3.13.1"
    }
  },
  "nbformat": 4,
  "nbformat_minor": 0
}
