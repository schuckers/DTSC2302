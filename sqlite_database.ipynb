{
 "cells": [
  {
   "cell_type": "markdown",
   "metadata": {},
   "source": [
    "### SQL and Databases\n",
    "\n",
    "Structured Query Language or SQL is a very common tool for data science.  It is a way to access data from databases.  We use databases rather than spreadsheets or csv's since they\n",
    "tend to be more efficient uses of space.\n",
    "\n",
    "For DTSC 2302 we are going to use a simple version of SQL and of database structure.  Generally, a database would be stored on a server and communications would go through the server.  In this course, we are just going to use some simple databases that are stored locally using a python library called _sqlite3_.  You may have to _install_ this\n",
    "library but it now comes as part of my python downloads."
   ]
  },
  {
   "cell_type": "code",
   "execution_count": null,
   "metadata": {},
   "outputs": [],
   "source": [
    "# Import the sqlite3 library\n",
    "import sqlite3 as db\n",
    "import pandas as pd"
   ]
  },
  {
   "cell_type": "markdown",
   "metadata": {},
   "source": [
    "The first thing we have to do is open a connection to our database which we do through the command _db.connect(dbname)_ where *dbname* is the name of a database.\n",
    "\n",
    "We then also have to define a _cursor_ so that we can interact with the connection.  Basically the cursor acts like the connection to a database server in a usaal SQL setting \n",
    "where you have a local machine and the database is on the server."
   ]
  },
  {
   "cell_type": "code",
   "execution_count": null,
   "metadata": {},
   "outputs": [],
   "source": [
    "# create a connection between the database and VSCode\n",
    "# If the database does not exist, SQLite will create it.\n",
    "conn = db.connect('students_courses.db')  # Create or connect to database\n",
    "# create a cursor object which will be the way through which we pass commands\n",
    "cursor = conn.cursor()"
   ]
  },
  {
   "cell_type": "markdown",
   "metadata": {},
   "source": [
    "Having created the database --- which should appear in your current directory --- we will next create a table.  We use the cursor to send a command that \n",
    "we want to execute to the database.  We'll do a simple table called _student_ here with some student information.\n",
    "\n",
    "When we CREATE a TABLE, we need to specify the attributes as well as the PRIMARY KEY.  For each attribute we also specify the data type.  The most common\n",
    "data types are: INTEGER, REAL, and TEXT.  The REAL datatype is like FLOAT in some other programming languages."
   ]
  },
  {
   "cell_type": "code",
   "execution_count": null,
   "metadata": {},
   "outputs": [],
   "source": [
    "#Create a TABLE called students which will have fields: student_id, first_name, last_name, age and course_id\n",
    "\n",
    "cursor.execute('''\n",
    "CREATE TABLE IF NOT EXISTS student (\n",
    "    student_id INTEGER PRIMARY KEY,\n",
    "    first_name TEXT,\n",
    "    last_name TEXT,\n",
    "    age INTEGER,\n",
    "    course_id INTEGER \n",
    ")\n",
    "''')"
   ]
  },
  {
   "cell_type": "markdown",
   "metadata": {},
   "source": [
    "To enter data by hand into a database we create an object, as below, which I've called *students_data*.  We will then INSERT that data into our table called *student*."
   ]
  },
  {
   "cell_type": "code",
   "execution_count": null,
   "metadata": {},
   "outputs": [],
   "source": [
    "\n",
    "# Step 4: Insert some data into the tables\n",
    "# Insert data into the 'students' table\n",
    "students_data = [\n",
    "    (165, 'John', 'Doe', 20, 2),\n",
    "    (245, 'Jane', 'Smith', 22, 2),\n",
    "    (3333, 'Mike', 'Jordan', 21, 1),\n",
    "]"
   ]
  },
  {
   "cell_type": "markdown",
   "metadata": {},
   "source": [
    "In the next chunk/cell of code we INSERT the *students_data* into the table called *student*."
   ]
  },
  {
   "cell_type": "code",
   "execution_count": null,
   "metadata": {},
   "outputs": [],
   "source": [
    "\n",
    "\n",
    "cursor.executemany('''\n",
    "INSERT INTO student (student_id, first_name, last_name, age, course_id)\n",
    "VALUES (?, ?, ?, ?, ?)\n",
    "''', students_data)"
   ]
  },
  {
   "cell_type": "markdown",
   "metadata": {},
   "source": [
    "Suppose we want to look at the values in our table.  The next cell of code shows you how to do that.\n",
    "\n",
    "The first line 'SELECT * FROM student' says to SQL from the table *student* give me all (denoted by the *) the attributes and all the rows.\n",
    "\n",
    "The rest of the commands in that cell get the output from cursor and then print it."
   ]
  },
  {
   "cell_type": "code",
   "execution_count": null,
   "metadata": {},
   "outputs": [],
   "source": [
    "cursor.execute('SELECT * FROM student')\n",
    "rows=cursor.fetchall()\n",
    "for row in rows:\n",
    "    print(row)"
   ]
  },
  {
   "cell_type": "markdown",
   "metadata": {},
   "source": [
    "We don't have to get all the attributes from a table when we SELECT we can just get some of them.  In the cell below, the first line says just give\n",
    "me the *first_name* and *last_name* from the table *student*.  Then print those."
   ]
  },
  {
   "cell_type": "code",
   "execution_count": null,
   "metadata": {},
   "outputs": [],
   "source": [
    "cursor.execute('SELECT first_name, last_name FROM student')\n",
    "rows=cursor.fetchall()\n",
    "for row in rows:\n",
    "    print(row)"
   ]
  },
  {
   "cell_type": "markdown",
   "metadata": {},
   "source": [
    "We also don't have to get all of the instances/rows from a table but rather we get just the first _n_ where _n_ has to be an integer.  To do that\n",
    "we replace the *fetchall* above with *fetchmany* and we "
   ]
  },
  {
   "cell_type": "code",
   "execution_count": null,
   "metadata": {},
   "outputs": [],
   "source": [
    "cursor.execute('SELECT age,first_name FROM student')\n",
    "rows=cursor.fetchmany(2)\n",
    "for row in rows:\n",
    "    print(row)"
   ]
  },
  {
   "cell_type": "markdown",
   "metadata": {},
   "source": [
    "Next we will create a table called *course* with information about the course."
   ]
  },
  {
   "cell_type": "code",
   "execution_count": null,
   "metadata": {},
   "outputs": [],
   "source": [
    "\n",
    "# Courses table: Contains information about courses.\n",
    "cursor.execute('''\n",
    "CREATE TABLE IF NOT EXISTS course (\n",
    "    course_id INTEGER PRIMARY KEY,\n",
    "    course_name TEXT,\n",
    "    instructor TEXT\n",
    ")\n",
    "''')"
   ]
  },
  {
   "cell_type": "markdown",
   "metadata": {},
   "source": [
    "Next we create an array of values to go into the table *course*."
   ]
  },
  {
   "cell_type": "code",
   "execution_count": null,
   "metadata": {},
   "outputs": [],
   "source": [
    "\n",
    "# Insert data into the 'courses' table\n",
    "courses_data = [\n",
    "    (1, 'Python 101', 'Dr. Alice'),\n",
    "    (2, 'Data Science', 'Prof. Bob'),\n",
    "    (3, 'Machine Learning', 'Dr. Charlie'),\n",
    "]"
   ]
  },
  {
   "cell_type": "markdown",
   "metadata": {},
   "source": [
    "We insert those values into *course* with the following code."
   ]
  },
  {
   "cell_type": "code",
   "execution_count": null,
   "metadata": {},
   "outputs": [],
   "source": [
    "#Insert data into the \n",
    "cursor.executemany('''\n",
    "INSERT INTO course (course_id, course_name, instructor)\n",
    "VALUES (?, ?, ?)\n",
    "''', courses_data)"
   ]
  },
  {
   "cell_type": "markdown",
   "metadata": {},
   "source": [
    "Often we want to combine the information in one or more tables.  The usual *verb* for doing such a thing in data science is a 'JOIN', so we want\n",
    "to join information from one table to another.  Below in the code we SELECT attributes *table1.attributeX1*, *table2.attributeX2*,..., *table2.attributeY1*\n",
    "FROM *table1* JOIN *table2* using keys.  The keys we use below are *course_id* from both tables.  The keys we use may not be have the same names for their\n",
    "attributes so we use the *table.attribute* structure to specify the keys."
   ]
  },
  {
   "cell_type": "code",
   "execution_count": null,
   "metadata": {},
   "outputs": [],
   "source": [
    "\n",
    "# Let's join the two tables (students and courses) based on student ID and course ID\n",
    "cursor.execute('''\n",
    "SELECT student.first_name, student.last_name, student.age, course.course_name, course.instructor\n",
    "FROM student\n",
    "JOIN course ON student.course_id = course.course_id\n",
    "''')"
   ]
  },
  {
   "cell_type": "markdown",
   "metadata": {},
   "source": [
    "The cell below prints the output from our JOIN above.  As you can see once you run this, the values from the two tables have been combined."
   ]
  },
  {
   "cell_type": "code",
   "execution_count": null,
   "metadata": {},
   "outputs": [],
   "source": [
    "# Fetch all the rows of the result\n",
    "rows = cursor.fetchall()\n",
    "\n",
    "\n",
    "# Display the results\n",
    "for row in rows:\n",
    "    print(row)"
   ]
  },
  {
   "cell_type": "markdown",
   "metadata": {},
   "source": [
    "Once you are done with a database you should close the connection.  We will revisit JOINs again soon."
   ]
  },
  {
   "cell_type": "code",
   "execution_count": null,
   "metadata": {},
   "outputs": [],
   "source": [
    "conn.close()"
   ]
  },
  {
   "cell_type": "markdown",
   "metadata": {},
   "source": [
    "Next we are going to look at reading in data from a CSV file directly into a database.  Luckily there is a nice function that lets us move a pandas dataframe to an SQL table.\n",
    "That command is *to_sql* and it takes the following arguments *table_name*, *cursor_name* and *if_exists*.  The former two give the name of the table to put the dataframe\n",
    "values into and name of the cursor mechanism for the particular sqlite3 database.  The last argument, *if_exists* has three options: 'fail', 'replace','append'.  This argument tells\n",
    "python what to do if the table already exists in the database.  The default here is 'fail' since you don't want to mistakenly overwrite a table in a database. "
   ]
  },
  {
   "cell_type": "code",
   "execution_count": null,
   "metadata": {},
   "outputs": [],
   "source": [
    "df=pd.read_csv('https://webpages.charlotte.edu/mschuck1/classes/DTSC2301/Data/Charlotte_football_2024_games_small.csv')\n",
    "\n",
    "\n",
    "connection = db.connect('football.db')\n",
    "\n",
    "cursor = connection.cursor()\n",
    "\n",
    "df.to_sql('game',connection,if_exists='replace')"
   ]
  },
  {
   "cell_type": "markdown",
   "metadata": {},
   "source": [
    "Print the values in the table *game*."
   ]
  },
  {
   "cell_type": "code",
   "execution_count": null,
   "metadata": {},
   "outputs": [],
   "source": [
    "cursor.execute('SELECT * FROM game')\n",
    "rows=cursor.fetchall()\n",
    "for row in rows:\n",
    "    print(row)\n"
   ]
  },
  {
   "cell_type": "markdown",
   "metadata": {},
   "source": [
    "When you are done with a database you should close the connection."
   ]
  },
  {
   "cell_type": "code",
   "execution_count": null,
   "metadata": {},
   "outputs": [],
   "source": [
    "connection.close()"
   ]
  },
  {
   "cell_type": "markdown",
   "metadata": {},
   "source": [
    "### Tasks\n",
    "\n",
    "\n",
    "1. We are going to create a database called bank.db and in that database create two tables.  The first table is called accounts and has attributes: *account_id*, *member_name* and *date_opened*.  The second table is called transactions and has attributes: *transaction_id*, *account_id*, *date*, *amount*.  Before you create that account, think about the variable types of each attribute.\n",
    "\n",
    "2. Create the database from Task 1 and enter three instances of accounts and two instances of transactions.\n",
    "\n",
    "3. Reconnect to the *football.db* database and print the first 5 instances.\n",
    "\n",
    "4. Having reconnected to the *football.db* database, print the scores for all of the games.  "
   ]
  }
 ],
 "metadata": {
  "kernelspec": {
   "display_name": "Python 3",
   "language": "python",
   "name": "python3"
  },
  "language_info": {
   "codemirror_mode": {
    "name": "ipython",
    "version": 3
   },
   "file_extension": ".py",
   "mimetype": "text/x-python",
   "name": "python",
   "nbconvert_exporter": "python",
   "pygments_lexer": "ipython3",
   "version": "3.13.1"
  }
 },
 "nbformat": 4,
 "nbformat_minor": 2
}
