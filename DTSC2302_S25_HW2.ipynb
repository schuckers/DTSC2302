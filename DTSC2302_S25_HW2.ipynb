{
  "cells": [
    {
      "cell_type": "markdown",
      "metadata": {
        "id": "izKqG6OvCt21"
      },
      "source": [
        "## DTSC 2302 Spring 2025 Homework #2\n",
        "\n",
        "Turn in your assignment via Gradescope\n",
        "\n",
        "Due 3/28/25, 11: 59pm\n",
        "\n",
        "For this assignment, you may *not* use generative AI and you may only use python commands and code we used in class. \n",
        "\n",
        "\n"
      ]
    },
    {
      "cell_type": "markdown",
      "metadata": {},
      "source": [
        "### Question 1.\n",
        "With the breast cancer dataset, use the features Texture, Radius, Area, Compactness, Symmetry and Smoothness, run 8 fold cross validation for the following models: logistic regression, SVM with linear kernel, SVM with RBF kernel, decision tree with depth of 3, decision tree with depth of 5.  Report the accuracy for each methodology. Interpret the model that performed the best including suggesting which features were most useful for prediction."
      ]
    },
    {
      "cell_type": "markdown",
      "metadata": {},
      "source": [
        "### Question 2.\n",
        "\n",
        "For this question, we are going to predict whether or not an individual gave blood.  This information is in the feature 'Class' from the following dataset.\n",
        "[<https://webpages.charlotte.edu/mschuck1/classes/DTSC2301/Data/blood_transfusion.csv>].\n",
        "\n",
        "The other features in these data are:\n",
        "\n",
        "    _Recency_: the time in months since the last time a person intended to give blood;\n",
        "\n",
        "    _Frequency_: the number of time a person intended to give blood in the past;\n",
        "\n",
        "    _Monetary_: the amount of blood given in the past (in cm³);\n",
        "\n",
        "    _Time_: the time in months since the first time a person intended to give blood.\n",
        "\n",
        "Using all of the features here,  run 10 fold cross validation for the following models: logistic regression, LDA, QDA, SVM with linear kernel, and decision tree with depth of 3.  Report the accuracy for each methodology. Interpret the model that performed the best including suggesting which features were most useful for prediction and explaining the cross validation performance."
      ]
    },
    {
      "cell_type": "markdown",
      "metadata": {},
      "source": []
    },
    {
      "cell_type": "markdown",
      "metadata": {},
      "source": [
        "### Question 3.\n",
        "\n",
        "Below is sample code for a function to plot decision boundaries for a classifier using two features.  \n",
        "\n",
        "Using that code, plot the decisions boundaries based upon training data for a logistic regression, a QDA and an SVM with radial kernel classifier for the breast cancer data with Texture and Compactness as predictors.  Split the breast cancer data into 75% training and 25% test data and use the random_state = 4242."
      ]
    },
    {
      "cell_type": "code",
      "execution_count": null,
      "metadata": {},
      "outputs": [],
      "source": [
        "# Create a function to plot the decision boundary\n",
        "def plot_decision_boundary(X, y, model, ax):\n",
        "    # Define the grid over the feature space\n",
        "    h = .02  # Step size in the mesh\n",
        "    x_min, x_max = X[:, 0].min() - 1, X[:, 0].max() + 1\n",
        "    y_min, y_max = X[:, 1].min() - 1, X[:, 1].max() + 1\n",
        "\n",
        "    xx, yy = np.meshgrid(np.arange(x_min, x_max, h), np.arange(y_min, y_max, h))\n",
        "\n",
        "    # Predict on all points in the grid\n",
        "    Z = model.predict(np.c_[xx.ravel(), yy.ravel()])\n",
        "    Z = Z.reshape(xx.shape)\n",
        "\n",
        "    # Plot the contour and the training points\n",
        "    ax.contourf(xx, yy, Z, alpha=0.75)\n",
        "    ax.scatter(X[:, 0], X[:, 1], c=y, edgecolors='k', marker='o', s=50, cmap=plt.cm.RdYlBu)\n",
        "    ax.set_title(\"Decision Boundary\")\n",
        "\n",
        "# Create a plot\n",
        "fig, ax = plt.subplots(figsize=(8, 6))\n",
        "\n",
        "# Plot the decision boundary for the classifier\n",
        "plot_decision_boundary(X_train, y_train, model, ax)\n",
        "\n",
        "# Show the plot\n",
        "plt.show()"
      ]
    }
  ],
  "metadata": {
    "colab": {
      "provenance": []
    },
    "kernelspec": {
      "display_name": "Python 3",
      "language": "python",
      "name": "python3"
    },
    "language_info": {
      "codemirror_mode": {
        "name": "ipython",
        "version": 3
      },
      "file_extension": ".py",
      "mimetype": "text/x-python",
      "name": "python",
      "nbconvert_exporter": "python",
      "pygments_lexer": "ipython3",
      "version": "3.13.1"
    }
  },
  "nbformat": 4,
  "nbformat_minor": 0
}
